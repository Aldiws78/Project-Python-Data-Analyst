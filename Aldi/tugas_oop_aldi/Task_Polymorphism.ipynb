{
 "cells": [
  {
   "cell_type": "code",
   "execution_count": 11,
   "metadata": {},
   "outputs": [],
   "source": [
    "import math\n",
    "\n",
    "class Rectangle:\n",
    "    def __init__(self, panjang, lebar):\n",
    "        self.panjang = panjang\n",
    "        self.lebar = lebar\n",
    "    \n",
    "    def calculate_area(self):\n",
    "        return self.panjang * self.lebar\n",
    "    "
   ]
  },
  {
   "cell_type": "code",
   "execution_count": 16,
   "metadata": {},
   "outputs": [],
   "source": [
    "class Circle:\n",
    "    def __init__(self, jari_jari):\n",
    "        self.jari_jari = jari_jari\n",
    "    \n",
    "    def calculate_area(self):\n",
    "        return math.pi * self.jari_jari**2\n"
   ]
  },
  {
   "cell_type": "code",
   "execution_count": 17,
   "metadata": {},
   "outputs": [
    {
     "name": "stdout",
     "output_type": "stream",
     "text": [
      "Luas persegi panjang adalah: 18\n",
      "Luas lingkaran adalah: 314.1592653589793\n"
     ]
    }
   ],
   "source": [
    "persegi_panjang = Rectangle(6, 3)\n",
    "lingkaran = Circle(10)\n",
    "\n",
    "area_persegipanjang = persegi_panjang.calculate_area()\n",
    "area_lingkaran = lingkaran.calculate_area()\n",
    "\n",
    "print('Luas persegi panjang adalah:', area_persegipanjang)\n",
    "print('Luas lingkaran adalah:', area_lingkaran)"
   ]
  }
 ],
 "metadata": {
  "kernelspec": {
   "display_name": "python_oop_task",
   "language": "python",
   "name": "python3"
  },
  "language_info": {
   "codemirror_mode": {
    "name": "ipython",
    "version": 3
   },
   "file_extension": ".py",
   "mimetype": "text/x-python",
   "name": "python",
   "nbconvert_exporter": "python",
   "pygments_lexer": "ipython3",
   "version": "3.11.7"
  }
 },
 "nbformat": 4,
 "nbformat_minor": 2
}
