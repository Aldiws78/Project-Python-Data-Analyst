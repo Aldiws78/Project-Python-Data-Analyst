{
 "cells": [
  {
   "cell_type": "code",
   "execution_count": 4,
   "metadata": {},
   "outputs": [
    {
     "name": "stdout",
     "output_type": "stream",
     "text": [
      "Error! Tidak bisa membagi dengan nol -> division by zero\n"
     ]
    }
   ],
   "source": [
    "def pembagian():\n",
    "    try:\n",
    "        \n",
    "        number_1 = int(1000)\n",
    "        number_2 = int(0)\n",
    "        \n",
    "        hasil = number_1 / number_2\n",
    "    \n",
    "        return hasil\n",
    "\n",
    "    except ValueError as e:\n",
    "        print(f'Error! Input harus berupa angka -> {e}')\n",
    "\n",
    "    except ZeroDivisionError as e:\n",
    "        print(f'Error! Tidak bisa membagi dengan nol -> {e}')\n",
    "    \n",
    "    except Exception as e:\n",
    "        print(f'Error! Terjadi kesalahan 404 -> {e}')\n",
    "\n",
    "\n",
    "hasil_pembagian = pembagian()\n",
    "\n",
    "if hasil_pembagian is not None:\n",
    "    print(f'Hasilnya: {hasil_pembagian}')\n",
    "    "
   ]
  }
 ],
 "metadata": {
  "kernelspec": {
   "display_name": "python_oop_task",
   "language": "python",
   "name": "python3"
  },
  "language_info": {
   "codemirror_mode": {
    "name": "ipython",
    "version": 3
   },
   "file_extension": ".py",
   "mimetype": "text/x-python",
   "name": "python",
   "nbconvert_exporter": "python",
   "pygments_lexer": "ipython3",
   "version": "3.11.7"
  }
 },
 "nbformat": 4,
 "nbformat_minor": 2
}
