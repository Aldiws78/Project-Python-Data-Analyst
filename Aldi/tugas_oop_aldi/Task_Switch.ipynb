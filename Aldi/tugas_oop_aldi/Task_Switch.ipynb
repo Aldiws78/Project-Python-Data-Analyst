{
 "cells": [
  {
   "cell_type": "code",
   "execution_count": 1,
   "metadata": {},
   "outputs": [
    {
     "name": "stdout",
     "output_type": "stream",
     "text": [
      "Biasa Aja\n"
     ]
    }
   ],
   "source": [
    "perasaan_saya = 'KECEWA'\n",
    "\n",
    "match perasaan_saya:\n",
    "    case 'SENANG':\n",
    "        print('Saya Hari Ini Sedang Senang!')\n",
    "        \n",
    "    case 'SEDIH':\n",
    "        print('Saya Sedang Sedih, Tinggalkan Saya Sendiri')\n",
    "        \n",
    "    case 'MARAH':\n",
    "        print('SAYA SEDANG MARAH, PERGI!')\n",
    "        \n",
    "    case _:\n",
    "        print('Biasa Aja')\n",
    "        "
   ]
  },
  {
   "cell_type": "code",
   "execution_count": null,
   "metadata": {},
   "outputs": [],
   "source": [
    "# Penjelasan Switch Case\n",
    "# Switch dalam python berfungsi agar kode dapat membuat keputusan berdasarkan kondisi tertentu. \n",
    "# Fitur switch dalam python diimplementasikan menggunakan statement match dan case. "
   ]
  }
 ],
 "metadata": {
  "kernelspec": {
   "display_name": "python_oop_task",
   "language": "python",
   "name": "python3"
  },
  "language_info": {
   "codemirror_mode": {
    "name": "ipython",
    "version": 3
   },
   "file_extension": ".py",
   "mimetype": "text/x-python",
   "name": "python",
   "nbconvert_exporter": "python",
   "pygments_lexer": "ipython3",
   "version": "3.11.7"
  }
 },
 "nbformat": 4,
 "nbformat_minor": 2
}
