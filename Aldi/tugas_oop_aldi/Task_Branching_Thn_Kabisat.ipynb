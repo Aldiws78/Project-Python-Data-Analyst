{
 "cells": [
  {
   "cell_type": "code",
   "execution_count": 1,
   "metadata": {},
   "outputs": [
    {
     "name": "stdout",
     "output_type": "stream",
     "text": [
      "2024 adalah tahun kabisat\n"
     ]
    }
   ],
   "source": [
    "# ini adalah variabel tahun \n",
    "tahun = 2024\n",
    "tahun2 = 2009\n",
    "tahun3 = 1945\n",
    "\n",
    "# statement if disini memeriksa apakah value dari variabel tahun diatas habis dibagi 400. \n",
    "# Jika iya, maka program akan mengeluarkan output tahun tersebut adalah tahun kabisat.\n",
    "if tahun % 400 == 0:\n",
    "    print(f'{tahun} adalah tahun kabisat')\n",
    "\n",
    "# jika tahun tidak habis dibagi 400 maka masuk ke kondisi selanjutnya (elif), di mana program memeriksa apakah tahun tersebut habis dibagi 100. \n",
    "# jika tahun habis dibagi 100 namun tidak habis dibagi 400 maka program akan mengeluarkan output tahun tersebut bukan tahun kabisat.\n",
    "elif tahun % 100 == 0:\n",
    "    print(f'{tahun} bukan tahun kabisat')\n",
    "    \n",
    "# jika tahun tidak habis dibagi 400 dan 100 maka masuk ke kondisi selanjutnya, di mana program memeriksa apakah tahun tersebut habis dibagi 4.\n",
    "# jika tahun tidak habis dibagi 400 dan 100 tetapi habis dibagi 4, maka program akan mengeluarkan output tahun tersebut adalah tahun kabisat.\n",
    "elif tahun % 4 == 0:\n",
    "    print(f'{tahun} adalah tahun kabisat')\n",
    "\n",
    "# jika ketiga kondisi diatas tidak terpenuhi (tidak habis dibagi 4, 400, dan 100) maka tahun tersebut bukan tahun kabisat.\n",
    "else:\n",
    "    print(f'{tahun} bukan tahun kabisat')"
   ]
  }
 ],
 "metadata": {
  "kernelspec": {
   "display_name": "python_oop_task",
   "language": "python",
   "name": "python3"
  },
  "language_info": {
   "codemirror_mode": {
    "name": "ipython",
    "version": 3
   },
   "file_extension": ".py",
   "mimetype": "text/x-python",
   "name": "python",
   "nbconvert_exporter": "python",
   "pygments_lexer": "ipython3",
   "version": "3.11.7"
  }
 },
 "nbformat": 4,
 "nbformat_minor": 2
}
