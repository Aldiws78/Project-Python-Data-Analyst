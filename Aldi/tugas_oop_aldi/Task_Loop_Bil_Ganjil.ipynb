{
 "cells": [
  {
   "cell_type": "code",
   "execution_count": 2,
   "metadata": {},
   "outputs": [
    {
     "name": "stdout",
     "output_type": "stream",
     "text": [
      "Jumlah bilangan ganjil dari 1 hingga 50 yaitu sebanyak: 25\n"
     ]
    }
   ],
   "source": [
    "jumlah_ganjil = []\n",
    "\n",
    "for angka in range (1, 50):\n",
    "    if angka % 2 != 0:\n",
    "\n",
    "        jumlah_ganjil.append(angka)\n",
    "\n",
    "print('Jumlah bilangan ganjil dari 1 hingga 50 yaitu sebanyak:', len(jumlah_ganjil))"
   ]
  }
 ],
 "metadata": {
  "kernelspec": {
   "display_name": "python_oop_task",
   "language": "python",
   "name": "python3"
  },
  "language_info": {
   "codemirror_mode": {
    "name": "ipython",
    "version": 3
   },
   "file_extension": ".py",
   "mimetype": "text/x-python",
   "name": "python",
   "nbconvert_exporter": "python",
   "pygments_lexer": "ipython3",
   "version": "3.11.7"
  }
 },
 "nbformat": 4,
 "nbformat_minor": 2
}
